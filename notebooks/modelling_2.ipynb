{
 "cells": [
  {
   "cell_type": "code",
   "execution_count": null,
   "metadata": {},
   "outputs": [],
   "source": []
  },
  {
   "cell_type": "code",
   "execution_count": null,
   "metadata": {},
   "outputs": [],
   "source": [
    "# Configuration\n",
    "learning_rate = 0.01  # Learning rate\n",
    "epochs = 30  # Number of training epochs\n",
    "es_patience = 10  # Patience for early stopping\n",
    "batch_size = 32  # Batch size\n",
    "\n",
    "# Train/valid/test split\n",
    "# https://github.com/danielegrattarola/spektral/blob/master/examples/graph_prediction/custom_dataset.py\n",
    "idxs = np.random.permutation(len(d))\n",
    "split_va, split_te = int(0.8 * len(d)), int(0.9 * len(d))\n",
    "idx_tr, idx_va, idx_te = np.split(idxs, [split_va, split_te])\n",
    "data_tr = d[idx_tr]\n",
    "data_va = d[idx_va]\n",
    "data_te = d[idx_te]\n",
    "\n",
    "# Data loaders\n",
    "loader_tr = BatchLoader(data_tr, batch_size=batch_size, epochs=epochs)\n",
    "loader_va = BatchLoader(data_va, batch_size=batch_size)\n",
    "loader_te = BatchLoader(data_te, batch_size=batch_size)\n",
    "\n",
    "# Build model\n",
    "class Net(Model):\n",
    "    def __init__(self):\n",
    "        super().__init__()\n",
    "        self.eccconv1 = ECCConv(8, activation='relu')\n",
    "        self.flatten = Flatten()\n",
    "        self.dense = Dense(d.n_labels, activation=\"sigmoid\")\n",
    "\n",
    "    def call(self, inputs):\n",
    "        x, a, e = inputs\n",
    "        print(x.shape)\n",
    "        x = self.eccconv1([x, a, e])\n",
    "        print(x.shape)\n",
    "        x =self.flatten(x)\n",
    "        print(x.shape)\n",
    "        x = self.dense(x)\n",
    "        print(x.shape)\n",
    "        \n",
    "        return x\n",
    "\n",
    "model = Net()\n",
    "optimizer = Adam(learning_rate=learning_rate)\n",
    "loss_fn = BinaryCrossentropy()\n",
    "model.compile(optimizer=optimizer, loss=loss_fn, metrics=['binary_accuracy'])"
   ]
  }
 ],
 "metadata": {
  "kernelspec": {
   "display_name": "Python 3.10.4 64-bit",
   "language": "python",
   "name": "python3"
  },
  "language_info": {
   "name": "python",
   "version": "3.10.4"
  },
  "orig_nbformat": 4,
  "vscode": {
   "interpreter": {
    "hash": "6aab2fd4997c02a58e1ddeeff325af130ecb53295aa6153c33cd63a5e6a7205f"
   }
  }
 },
 "nbformat": 4,
 "nbformat_minor": 2
}
