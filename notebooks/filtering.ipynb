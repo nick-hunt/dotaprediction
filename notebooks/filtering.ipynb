{
 "cells": [
  {
   "cell_type": "code",
   "execution_count": 2,
   "metadata": {},
   "outputs": [],
   "source": [
    "import pandas as pd\n",
    "import numpy as np\n",
    "\n",
    "pd.set_option('display.max_columns', None)\n",
    "pd.set_option('mode.chained_assignment', None) # default='warn'"
   ]
  },
  {
   "cell_type": "code",
   "execution_count": 3,
   "metadata": {},
   "outputs": [],
   "source": [
    "# Load combined data\n",
    "df_raw = pd.read_csv('../data/combined.csv')\n",
    "df = df_raw.copy()\n",
    "\n",
    "# Load hero feature data\n",
    "df_features = pd.read_csv('../data/features.csv')"
   ]
  },
  {
   "cell_type": "markdown",
   "metadata": {},
   "source": [
    "### Standard filter"
   ]
  },
  {
   "cell_type": "code",
   "execution_count": 11,
   "metadata": {},
   "outputs": [
    {
     "name": "stdout",
     "output_type": "stream",
     "text": [
      "Matches kept: 5078155\n",
      "Matches removed: 522597\n"
     ]
    }
   ],
   "source": [
    "# All slots add up to 660\n",
    "df['slot_total'] = df[[f'hero{i}_slot' for i in range(0,10)]].sum(axis=1)\n",
    "filt_1 = (df['slot_total']==660).values\n",
    "# print(len(filt_1[filt_1==True]))\n",
    "# print(len(filt_1[filt_1==False]))\n",
    "\n",
    "# Valid hero ids (from exploratory, we know only invalid choice is 0)\n",
    "filt_2 = [True for i in range(0,len(df))]\n",
    "for i in range(0,10):\n",
    "    filt_2 = filt_2 & (df[f'hero{i}_pick']!=0).values\n",
    "# print(len(filt_2[filt_2==True]))\n",
    "# print(len(filt_2[filt_2==False]))\n",
    "\n",
    "# Match duration from 26-56 minutes\n",
    "min_duration = 26*60 # minutes to seconds\n",
    "max_duration = 56*60 # minutes to seconds\n",
    "filt_3 = (df['duration']>=min_duration).values & (df['duration']<=max_duration).values\n",
    "# print(len(filt_3[filt_3==True]))\n",
    "# print(len(filt_3[filt_3==False]))\n",
    "\n",
    "filt_std = filt_1 & filt_2 & filt_3 # standard filter is all filters &'d\n",
    "print(f'Matches kept: {len(filt_std[filt_std==True])}')\n",
    "print(f'Matches removed: {len(filt_std[filt_std==False])}')\n",
    "\n",
    "# df_filt_std = pd.DataFrame(filt_std, columns=['filter_standard']) # convert standard filter to df\n",
    "# filter_standard.to_csv('../data/filter.csv', index=False)"
   ]
  },
  {
   "cell_type": "markdown",
   "metadata": {},
   "source": [
    "### MMR filter"
   ]
  },
  {
   "cell_type": "code",
   "execution_count": 12,
   "metadata": {},
   "outputs": [
    {
     "name": "stdout",
     "output_type": "stream",
     "text": [
      "Total matches: 5600752\n",
      "Total matches std: 5078155\n",
      "Total matches std with MMR: 3488678 (68.7%)\n",
      "\n",
      "MMR 1-999: 117735 (2.32% total)  (3.37% with MMR)\n",
      "MMR 1000-1999: 450537 (8.87% total)  (12.91% with MMR)\n",
      "MMR 2000-2999: 1158591 (22.82% total)  (33.21% with MMR)\n",
      "MMR 3000-3999: 1332106 (26.23% total)  (38.18% with MMR)\n",
      "MMR 4000-4999: 385337 (7.59% total)  (11.05% with MMR)\n",
      "MMR 5000+: 44372 (0.87% total)  (1.27% with MMR)\n"
     ]
    }
   ],
   "source": [
    "# Matches with defined MMRs\n",
    "filt_4_0 = ~(df['avg_mmr'].isna()).values\n",
    "\n",
    "# MMR groups\n",
    "filt_4_1 = (df['avg_mmr']>=1).values & (df['avg_mmr']<1000).values\n",
    "filt_4_2 = (df['avg_mmr']>=1000).values & (df['avg_mmr']<2000).values\n",
    "filt_4_3 = (df['avg_mmr']>=2000).values & (df['avg_mmr']<3000).values\n",
    "filt_4_4 = (df['avg_mmr']>=3000).values & (df['avg_mmr']<4000).values\n",
    "filt_4_5 = (df['avg_mmr']>=4000).values & (df['avg_mmr']<5000).values\n",
    "filt_4_6 = (df['avg_mmr']>=5000).values\n",
    "\n",
    "# Combining MMR groups with standard filters\n",
    "filt_4_0_std = filt_4_0 & filt_std\n",
    "filt_4_1_std = filt_4_1 & filt_std\n",
    "filt_4_2_std = filt_4_2 & filt_std\n",
    "filt_4_3_std = filt_4_3 & filt_std\n",
    "filt_4_4_std = filt_4_4 & filt_std\n",
    "filt_4_5_std = filt_4_5 & filt_std\n",
    "filt_4_6_std = filt_4_6 & filt_std\n",
    "\n",
    "# Total match stats\n",
    "total_matches = len(df)\n",
    "total_matches_std = len(filt_std[filt_std==True])\n",
    "total_matches_std_with_mmr = len(filt_4_0_std[filt_4_0_std==True])\n",
    "percentage_matches_with_mmr = np.round(total_matches_std_with_mmr/total_matches_std*100,2)\n",
    "\n",
    "print(f'Total matches: {total_matches}')\n",
    "print(f'Total matches std: {total_matches_std}')\n",
    "print(f'Total matches std with MMR: {total_matches_std_with_mmr} ({percentage_matches_with_mmr}%)\\n')\n",
    "\n",
    "# Number of matches after standard filter and MMR filters\n",
    "num_matches_4_1 = len(filt_4_1_std[filt_4_1_std==True])\n",
    "num_matches_4_2 = len(filt_4_2_std[filt_4_2_std==True])\n",
    "num_matches_4_3 = len(filt_4_3_std[filt_4_3_std==True])\n",
    "num_matches_4_4 = len(filt_4_4_std[filt_4_4_std==True])\n",
    "num_matches_4_5 = len(filt_4_5_std[filt_4_5_std==True])\n",
    "num_matches_4_6 = len(filt_4_6_std[filt_4_6_std==True])\n",
    "\n",
    "print(f'MMR 1-999: {num_matches_4_1} ({np.round(num_matches_4_1/total_matches_std*100,2)}% total)  ({np.round(num_matches_4_1/total_matches_std_with_mmr*100,2)}% with MMR)')\n",
    "print(f'MMR 1000-1999: {num_matches_4_2} ({np.round(num_matches_4_2/total_matches_std*100,2)}% total)  ({np.round(num_matches_4_2/total_matches_std_with_mmr*100,2)}% with MMR)')\n",
    "print(f'MMR 2000-2999: {num_matches_4_3} ({np.round(num_matches_4_3/total_matches_std*100,2)}% total)  ({np.round(num_matches_4_3/total_matches_std_with_mmr*100,2)}% with MMR)')\n",
    "print(f'MMR 3000-3999: {num_matches_4_4} ({np.round(num_matches_4_4/total_matches_std*100,2)}% total)  ({np.round(num_matches_4_4/total_matches_std_with_mmr*100,2)}% with MMR)')\n",
    "print(f'MMR 4000-4999: {num_matches_4_5} ({np.round(num_matches_4_5/total_matches_std*100,2)}% total)  ({np.round(num_matches_4_5/total_matches_std_with_mmr*100,2)}% with MMR)')\n",
    "print(f'MMR 5000+: {num_matches_4_6} ({np.round(num_matches_4_6/total_matches_std*100,2)}% total)  ({np.round(num_matches_4_6/total_matches_std_with_mmr*100,2)}% with MMR)')"
   ]
  },
  {
   "cell_type": "markdown",
   "metadata": {},
   "source": [
    "### Duration filter"
   ]
  },
  {
   "cell_type": "code",
   "execution_count": 15,
   "metadata": {},
   "outputs": [
    {
     "name": "stdout",
     "output_type": "stream",
     "text": [
      "Total matches: 5600752\n",
      "Total matches std: 5078155\n",
      "Total matches std with duration: 5078155 (100.0%)\n",
      "\n",
      "Duration 26-31: 654790 (12.89% total)  (12.89% with duration)\n",
      "Duration 31-36: 1254998 (24.71% total)  (24.71% with duration)\n",
      "Duration 36-41: 1231033 (24.24% total)  (24.24% with duration)\n",
      "Duration 41-46: 1036095 (20.4% total)  (20.4% with duration)\n",
      "Duration 46-51: 573267 (11.29% total)  (11.29% with duration)\n",
      "Duration 51-56: 327147 (6.44% total)  (6.44% with duration)\n"
     ]
    }
   ],
   "source": [
    "# Matches with defined durations\n",
    "filt_5_0 = ~(df['duration'].isna()).values\n",
    "\n",
    "# Duration groups\n",
    "filt_5_1 = (df['duration']>=(26*60)).values & (df['duration']<(31*60)).values\n",
    "filt_5_2 = (df['duration']>=(31*60)).values & (df['duration']<(36*60)).values\n",
    "filt_5_3 = (df['duration']>=(36*60)).values & (df['duration']<(41*60)).values\n",
    "filt_5_4 = (df['duration']>=(41*60)).values & (df['duration']<(46*60)).values\n",
    "filt_5_5 = (df['duration']>=(46*60)).values & (df['duration']<(51*60)).values\n",
    "filt_5_6 = (df['duration']>=(51*60)).values & (df['duration']<(56*60)).values\n",
    "\n",
    "# Combining MMR groups with standard filters\n",
    "filt_5_0_std = filt_5_0 & filt_std\n",
    "filt_5_1_std = filt_5_1 & filt_std\n",
    "filt_5_2_std = filt_5_2 & filt_std\n",
    "filt_5_3_std = filt_5_3 & filt_std\n",
    "filt_5_4_std = filt_5_4 & filt_std\n",
    "filt_5_5_std = filt_5_5 & filt_std\n",
    "filt_5_6_std = filt_5_6 & filt_std\n",
    "\n",
    "# Total match stats\n",
    "total_matches = len(df)\n",
    "total_matches_std = len(filt_std[filt_std==True])\n",
    "total_matches_std_with_duration = len(filt_5_0_std[filt_5_0_std==True])\n",
    "percentage_matches_with_duration = np.round(total_matches_std_with_duration/total_matches_std*100,2)\n",
    "\n",
    "print(f'Total matches: {total_matches}')\n",
    "print(f'Total matches std: {total_matches_std}')\n",
    "print(f'Total matches std with duration: {total_matches_std_with_duration} ({percentage_matches_with_duration}%)\\n')\n",
    "\n",
    "# Number of matches after standard filter and MMR filters\n",
    "num_matches_5_1 = len(filt_5_1_std[filt_5_1_std==True])\n",
    "num_matches_5_2 = len(filt_5_2_std[filt_5_2_std==True])\n",
    "num_matches_5_3 = len(filt_5_3_std[filt_5_3_std==True])\n",
    "num_matches_5_4 = len(filt_5_4_std[filt_5_4_std==True])\n",
    "num_matches_5_5 = len(filt_5_5_std[filt_5_5_std==True])\n",
    "num_matches_5_6 = len(filt_5_6_std[filt_5_6_std==True])\n",
    "\n",
    "print(f'Duration 26-31: {num_matches_5_1} ({np.round(num_matches_5_1/total_matches_std*100,2)}% total)  ({np.round(num_matches_5_1/total_matches_std_with_duration*100,2)}% with duration)')\n",
    "print(f'Duration 31-36: {num_matches_5_2} ({np.round(num_matches_5_2/total_matches_std*100,2)}% total)  ({np.round(num_matches_5_2/total_matches_std_with_duration*100,2)}% with duration)')\n",
    "print(f'Duration 36-41: {num_matches_5_3} ({np.round(num_matches_5_3/total_matches_std*100,2)}% total)  ({np.round(num_matches_5_3/total_matches_std_with_duration*100,2)}% with duration)')\n",
    "print(f'Duration 41-46: {num_matches_5_4} ({np.round(num_matches_5_4/total_matches_std*100,2)}% total)  ({np.round(num_matches_5_4/total_matches_std_with_duration*100,2)}% with duration)')\n",
    "print(f'Duration 46-51: {num_matches_5_5} ({np.round(num_matches_5_5/total_matches_std*100,2)}% total)  ({np.round(num_matches_5_5/total_matches_std_with_duration*100,2)}% with duration)')\n",
    "print(f'Duration 51-56: {num_matches_5_6} ({np.round(num_matches_5_6/total_matches_std*100,2)}% total)  ({np.round(num_matches_5_6/total_matches_std_with_duration*100,2)}% with duration)')"
   ]
  },
  {
   "cell_type": "markdown",
   "metadata": {},
   "source": [
    "### Write filters to file"
   ]
  },
  {
   "cell_type": "code",
   "execution_count": null,
   "metadata": {},
   "outputs": [],
   "source": [
    "# Write filters to csv (filters not 'and'ed with standard)\n",
    "df_mmr_duration_filt = pd.DataFrame(data=dict(\n",
    "    filt_std = filt_std,\n",
    "    filt_mmr_1 = filt_4_1,\n",
    "    filt_mmr_2 = filt_4_2,\n",
    "    filt_mmr_3 = filt_4_3,\n",
    "    filt_mmr_4 = filt_4_4,\n",
    "    filt_mmr_5 = filt_4_5,\n",
    "    filt_mmr_6 = filt_4_6,\n",
    "    filt_duration_1 = filt_5_1,\n",
    "    filt_duration_2 = filt_5_2,\n",
    "    filt_duration_3 = filt_5_3,\n",
    "    filt_duration_4 = filt_5_4,\n",
    "    filt_duration_5 = filt_5_5,\n",
    "    filt_duration_6 = filt_5_6,\n",
    "))\n",
    "df_mmr_duration_filt.to_csv('../models/filters.csv', index=False)"
   ]
  }
 ],
 "metadata": {
  "kernelspec": {
   "display_name": "Python 3.10.4 64-bit",
   "language": "python",
   "name": "python3"
  },
  "language_info": {
   "codemirror_mode": {
    "name": "ipython",
    "version": 3
   },
   "file_extension": ".py",
   "mimetype": "text/x-python",
   "name": "python",
   "nbconvert_exporter": "python",
   "pygments_lexer": "ipython3",
   "version": "3.10.4"
  },
  "orig_nbformat": 4,
  "vscode": {
   "interpreter": {
    "hash": "6aab2fd4997c02a58e1ddeeff325af130ecb53295aa6153c33cd63a5e6a7205f"
   }
  }
 },
 "nbformat": 4,
 "nbformat_minor": 2
}
