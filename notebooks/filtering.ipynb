{
 "cells": [
  {
   "cell_type": "code",
   "execution_count": 2,
   "metadata": {},
   "outputs": [],
   "source": [
    "import pandas as pd\n",
    "import numpy as np\n",
    "\n",
    "pd.set_option('display.max_columns', None)\n",
    "pd.set_option('mode.chained_assignment', None) # default='warn'"
   ]
  },
  {
   "cell_type": "code",
   "execution_count": 14,
   "metadata": {},
   "outputs": [],
   "source": [
    "# Load combined data\n",
    "df_raw = pd.read_csv('../data/combined.csv')\n",
    "df = df_raw.copy()\n",
    "\n",
    "# Load hero feature data\n",
    "df_features = pd.read_csv('../data/features.csv')"
   ]
  },
  {
   "cell_type": "code",
   "execution_count": 33,
   "metadata": {},
   "outputs": [
    {
     "data": {
      "text/plain": [
       "5600752"
      ]
     },
     "execution_count": 33,
     "metadata": {},
     "output_type": "execute_result"
    }
   ],
   "source": [
    "len(df)"
   ]
  },
  {
   "cell_type": "code",
   "execution_count": 48,
   "metadata": {},
   "outputs": [
    {
     "name": "stdout",
     "output_type": "stream",
     "text": [
      "5600742\n",
      "10\n"
     ]
    }
   ],
   "source": [
    "# All slots add up to 660\n",
    "df['slot_total'] = df[[f'hero{i}_slot' for i in range(0,10)]].sum(axis=1)\n",
    "filt_1 = (df['slot_total']==660).values\n",
    "print(len(filt_1[filt_1==True]))\n",
    "print(len(filt_1[filt_1==False]))"
   ]
  },
  {
   "cell_type": "code",
   "execution_count": 49,
   "metadata": {},
   "outputs": [
    {
     "name": "stdout",
     "output_type": "stream",
     "text": [
      "5600731\n",
      "21\n"
     ]
    }
   ],
   "source": [
    "# Valid hero ids (from exploratory, we know only invalid choice is 0)\n",
    "filt_2 = [True for i in range(0,len(df))]\n",
    "\n",
    "for i in range(0,10):\n",
    "    filt_2 = filt_2 & (df[f'hero{i}_pick']!=0).values\n",
    "\n",
    "print(len(filt_2[filt_2==True]))\n",
    "print(len(filt_2[filt_2==False]))"
   ]
  },
  {
   "cell_type": "code",
   "execution_count": 52,
   "metadata": {},
   "outputs": [
    {
     "name": "stdout",
     "output_type": "stream",
     "text": [
      "5078172\n",
      "522580\n"
     ]
    }
   ],
   "source": [
    "# Match duration from 26-56 minutes\n",
    "min_duration = 26*60 # minutes to seconds\n",
    "max_duration = 56*60 # minutes to seconds\n",
    "\n",
    "filt_3 = (df['duration']>=min_duration).values & (df['duration']<=max_duration).values\n",
    "\n",
    "print(len(filt_3[filt_3==True]))\n",
    "print(len(filt_3[filt_3==False]))"
   ]
  },
  {
   "cell_type": "code",
   "execution_count": 57,
   "metadata": {},
   "outputs": [
    {
     "name": "stdout",
     "output_type": "stream",
     "text": [
      "5078155\n",
      "522597\n"
     ]
    }
   ],
   "source": [
    "filter = filt_1 & filt_2 & filt_3 # standard filter is all filters &'d\n",
    "print(len(filter[filter==True]))\n",
    "print(len(filter[filter==False]))\n",
    "\n",
    "filter = pd.DataFrame(filter, columns=['filter']) # convert standard filter to df\n",
    "filter.to_csv('../data/filter.csv', index=False)"
   ]
  }
 ],
 "metadata": {
  "kernelspec": {
   "display_name": "Python 3.10.4 64-bit",
   "language": "python",
   "name": "python3"
  },
  "language_info": {
   "codemirror_mode": {
    "name": "ipython",
    "version": 3
   },
   "file_extension": ".py",
   "mimetype": "text/x-python",
   "name": "python",
   "nbconvert_exporter": "python",
   "pygments_lexer": "ipython3",
   "version": "3.10.4"
  },
  "orig_nbformat": 4,
  "vscode": {
   "interpreter": {
    "hash": "6aab2fd4997c02a58e1ddeeff325af130ecb53295aa6153c33cd63a5e6a7205f"
   }
  }
 },
 "nbformat": 4,
 "nbformat_minor": 2
}
