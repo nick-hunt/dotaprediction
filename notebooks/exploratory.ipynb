{
 "cells": [
  {
   "cell_type": "code",
   "execution_count": null,
   "metadata": {},
   "outputs": [],
   "source": []
  },
  {
   "cell_type": "code",
   "execution_count": null,
   "metadata": {},
   "outputs": [
    {
     "name": "stdout",
     "output_type": "stream",
     "text": [
      "[22  4  5  3  2 16  1]\n",
      "6249738002\n",
      "6246238706\n",
      "6246231305\n",
      "6246229807\n",
      "6246230205\n",
      "6247583407\n",
      "6246229802\n",
      "[7 0 1 9]\n"
     ]
    }
   ],
   "source": [
    "df_match_merged.head()\n",
    "print(df_match_merged['game_mode'].unique())\n",
    "# [22  4  5  3  2 16  1]\n",
    "\n",
    "match_id_game_mode_22 = df_match_merged[df_match_merged['game_mode']==22]['match_id'].iloc[0]\n",
    "match_id_game_mode_04 = df_match_merged[df_match_merged['game_mode']==4]['match_id'].iloc[0]\n",
    "match_id_game_mode_05 = df_match_merged[df_match_merged['game_mode']==5]['match_id'].iloc[0]\n",
    "match_id_game_mode_03 = df_match_merged[df_match_merged['game_mode']==3]['match_id'].iloc[0]\n",
    "match_id_game_mode_02 = df_match_merged[df_match_merged['game_mode']==2]['match_id'].iloc[0]\n",
    "match_id_game_mode_16 = df_match_merged[df_match_merged['game_mode']==16]['match_id'].iloc[0]\n",
    "match_id_game_mode_01 = df_match_merged[df_match_merged['game_mode']==1]['match_id'].iloc[0]\n",
    "\n",
    "print(match_id_game_mode_01) # All pick\n",
    "print(match_id_game_mode_02) # Captains mode\n",
    "print(match_id_game_mode_03) # Random Draft\n",
    "print(match_id_game_mode_04) # Single Draft\n",
    "print(match_id_game_mode_05) # All random\n",
    "print(match_id_game_mode_16) # Captains draft\n",
    "print(match_id_game_mode_22) # All draft\n",
    "\n",
    "print(df_match_merged['lobby_type'].unique())"
   ]
  }
 ],
 "metadata": {
  "kernelspec": {
   "display_name": "Python 3.10.4 64-bit",
   "language": "python",
   "name": "python3"
  },
  "language_info": {
   "name": "python",
   "version": "3.10.4"
  },
  "orig_nbformat": 4,
  "vscode": {
   "interpreter": {
    "hash": "6aab2fd4997c02a58e1ddeeff325af130ecb53295aa6153c33cd63a5e6a7205f"
   }
  }
 },
 "nbformat": 4,
 "nbformat_minor": 2
}
