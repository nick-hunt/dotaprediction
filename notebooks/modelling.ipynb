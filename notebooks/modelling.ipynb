{
 "cells": [
  {
   "cell_type": "markdown",
   "metadata": {},
   "source": [
    "# Modelling"
   ]
  },
  {
   "cell_type": "markdown",
   "metadata": {},
   "source": [
    "### Library and data imports"
   ]
  },
  {
   "cell_type": "code",
   "execution_count": 1,
   "metadata": {},
   "outputs": [],
   "source": [
    "from importlib import reload\n",
    "import pandas as pd\n",
    "import numpy as np\n",
    "from spektral.data import Dataset, Graph\n",
    "import dataset\n",
    "reload(dataset)\n",
    "import pickle\n",
    "import os"
   ]
  },
  {
   "cell_type": "code",
   "execution_count": 2,
   "metadata": {},
   "outputs": [],
   "source": [
    "# Load combined data\n",
    "df_raw = pd.read_csv('../data/combined.csv')\n",
    "df = df_raw.copy()\n",
    "\n",
    "# Load hero feature data\n",
    "df_features = pd.read_csv('../data/features.csv')\n",
    "df_features = df_features.set_index('hero_id')\n",
    "\n",
    "# Load standard filter\n",
    "df_filter = pd.read_csv('../models/filter.csv')"
   ]
  },
  {
   "cell_type": "code",
   "execution_count": 3,
   "metadata": {},
   "outputs": [
    {
     "name": "stdout",
     "output_type": "stream",
     "text": [
      "../data/graphs_v1/graphs_v1_0-49999.pkl\n",
      "../data/graphs_v1/graphs_v1_50000-99999.pkl\n",
      "../data/graphs_v1/graphs_v1_100000-149999.pkl\n",
      "../data/graphs_v1/graphs_v1_150000-199999.pkl\n",
      "../data/graphs_v1/graphs_v1_200000-249999.pkl\n",
      "../data/graphs_v1/graphs_v1_250000-299999.pkl\n",
      "../data/graphs_v1/graphs_v1_300000-349999.pkl\n",
      "../data/graphs_v1/graphs_v1_350000-399999.pkl\n",
      "../data/graphs_v1/graphs_v1_400000-449999.pkl\n",
      "../data/graphs_v1/graphs_v1_450000-499999.pkl\n",
      "../data/graphs_v1/graphs_v1_500000-549999.pkl\n",
      "../data/graphs_v1/graphs_v1_550000-599999.pkl\n",
      "../data/graphs_v1/graphs_v1_600000-649999.pkl\n",
      "../data/graphs_v1/graphs_v1_650000-699999.pkl\n",
      "../data/graphs_v1/graphs_v1_700000-749999.pkl\n",
      "../data/graphs_v1/graphs_v1_750000-799999.pkl\n",
      "../data/graphs_v1/graphs_v1_800000-849999.pkl\n",
      "../data/graphs_v1/graphs_v1_850000-899999.pkl\n",
      "../data/graphs_v1/graphs_v1_900000-949999.pkl\n",
      "../data/graphs_v1/graphs_v1_950000-999999.pkl\n",
      "../data/graphs_v1/graphs_v1_1000000-1049999.pkl\n",
      "../data/graphs_v1/graphs_v1_1050000-1099999.pkl\n",
      "../data/graphs_v1/graphs_v1_1100000-1149999.pkl\n",
      "../data/graphs_v1/graphs_v1_1150000-1199999.pkl\n",
      "../data/graphs_v1/graphs_v1_1200000-1249999.pkl\n",
      "../data/graphs_v1/graphs_v1_1250000-1299999.pkl\n",
      "../data/graphs_v1/graphs_v1_1300000-1349999.pkl\n",
      "../data/graphs_v1/graphs_v1_1350000-1399999.pkl\n",
      "../data/graphs_v1/graphs_v1_1400000-1449999.pkl\n",
      "../data/graphs_v1/graphs_v1_1450000-1499999.pkl\n",
      "../data/graphs_v1/graphs_v1_1500000-1549999.pkl\n",
      "../data/graphs_v1/graphs_v1_1550000-1599999.pkl\n",
      "../data/graphs_v1/graphs_v1_1600000-1649999.pkl\n",
      "../data/graphs_v1/graphs_v1_1650000-1699999.pkl\n",
      "../data/graphs_v1/graphs_v1_1700000-1749999.pkl\n",
      "../data/graphs_v1/graphs_v1_1750000-1799999.pkl\n",
      "../data/graphs_v1/graphs_v1_1800000-1849999.pkl\n",
      "../data/graphs_v1/graphs_v1_1850000-1899999.pkl\n",
      "../data/graphs_v1/graphs_v1_1900000-1949999.pkl\n",
      "../data/graphs_v1/graphs_v1_1950000-1999999.pkl\n",
      "../data/graphs_v1/graphs_v1_2000000-2049999.pkl\n",
      "../data/graphs_v1/graphs_v1_2050000-2099999.pkl\n",
      "../data/graphs_v1/graphs_v1_2100000-2149999.pkl\n",
      "../data/graphs_v1/graphs_v1_2150000-2199999.pkl\n",
      "../data/graphs_v1/graphs_v1_2200000-2249999.pkl\n",
      "../data/graphs_v1/graphs_v1_2250000-2299999.pkl\n",
      "../data/graphs_v1/graphs_v1_2300000-2349999.pkl\n",
      "../data/graphs_v1/graphs_v1_2350000-2399999.pkl\n",
      "../data/graphs_v1/graphs_v1_2400000-2449999.pkl\n",
      "../data/graphs_v1/graphs_v1_2450000-2499999.pkl\n",
      "../data/graphs_v1/graphs_v1_2500000-2549999.pkl\n",
      "../data/graphs_v1/graphs_v1_2550000-2599999.pkl\n",
      "../data/graphs_v1/graphs_v1_2600000-2649999.pkl\n",
      "../data/graphs_v1/graphs_v1_2650000-2699999.pkl\n",
      "../data/graphs_v1/graphs_v1_2700000-2749999.pkl\n",
      "../data/graphs_v1/graphs_v1_2750000-2799999.pkl\n",
      "../data/graphs_v1/graphs_v1_2800000-2849999.pkl\n",
      "../data/graphs_v1/graphs_v1_2850000-2899999.pkl\n",
      "../data/graphs_v1/graphs_v1_2900000-2949999.pkl\n",
      "../data/graphs_v1/graphs_v1_2950000-2999999.pkl\n",
      "../data/graphs_v1/graphs_v1_3000000-3049999.pkl\n",
      "../data/graphs_v1/graphs_v1_3050000-3099999.pkl\n",
      "../data/graphs_v1/graphs_v1_3100000-3149999.pkl\n",
      "../data/graphs_v1/graphs_v1_3150000-3199999.pkl\n",
      "../data/graphs_v1/graphs_v1_3200000-3249999.pkl\n",
      "../data/graphs_v1/graphs_v1_3250000-3299999.pkl\n",
      "../data/graphs_v1/graphs_v1_3300000-3349999.pkl\n",
      "../data/graphs_v1/graphs_v1_3350000-3399999.pkl\n",
      "../data/graphs_v1/graphs_v1_3400000-3449999.pkl\n",
      "../data/graphs_v1/graphs_v1_3450000-3499999.pkl\n",
      "../data/graphs_v1/graphs_v1_3500000-3549999.pkl\n",
      "../data/graphs_v1/graphs_v1_3550000-3599999.pkl\n",
      "../data/graphs_v1/graphs_v1_3600000-3649999.pkl\n",
      "../data/graphs_v1/graphs_v1_3650000-3699999.pkl\n",
      "../data/graphs_v1/graphs_v1_3700000-3749999.pkl\n",
      "../data/graphs_v1/graphs_v1_3750000-3799999.pkl\n",
      "../data/graphs_v1/graphs_v1_3800000-3849999.pkl\n",
      "../data/graphs_v1/graphs_v1_3850000-3899999.pkl\n",
      "../data/graphs_v1/graphs_v1_3900000-3949999.pkl\n",
      "../data/graphs_v1/graphs_v1_3950000-3999999.pkl\n",
      "../data/graphs_v1/graphs_v1_4000000-4049999.pkl\n",
      "../data/graphs_v1/graphs_v1_4050000-4099999.pkl\n",
      "../data/graphs_v1/graphs_v1_4100000-4149999.pkl\n",
      "../data/graphs_v1/graphs_v1_4150000-4199999.pkl\n",
      "../data/graphs_v1/graphs_v1_4200000-4249999.pkl\n",
      "../data/graphs_v1/graphs_v1_4250000-4299999.pkl\n",
      "../data/graphs_v1/graphs_v1_4300000-4349999.pkl\n",
      "../data/graphs_v1/graphs_v1_4350000-4399999.pkl\n",
      "../data/graphs_v1/graphs_v1_4400000-4449999.pkl\n",
      "../data/graphs_v1/graphs_v1_4450000-4499999.pkl\n",
      "../data/graphs_v1/graphs_v1_4500000-4549999.pkl\n",
      "../data/graphs_v1/graphs_v1_4550000-4599999.pkl\n",
      "../data/graphs_v1/graphs_v1_4600000-4649999.pkl\n",
      "../data/graphs_v1/graphs_v1_4650000-4699999.pkl\n",
      "../data/graphs_v1/graphs_v1_4700000-4749999.pkl\n",
      "../data/graphs_v1/graphs_v1_4750000-4799999.pkl\n",
      "../data/graphs_v1/graphs_v1_4800000-4849999.pkl\n",
      "../data/graphs_v1/graphs_v1_4850000-4899999.pkl\n",
      "../data/graphs_v1/graphs_v1_4900000-4949999.pkl\n",
      "../data/graphs_v1/graphs_v1_4950000-4999999.pkl\n",
      "../data/graphs_v1/graphs_v1_5000000-5049999.pkl\n",
      "../data/graphs_v1/graphs_v1_5050000-5099999.pkl\n",
      "../data/graphs_v1/graphs_v1_5100000-5149999.pkl\n",
      "../data/graphs_v1/graphs_v1_5150000-5199999.pkl\n",
      "../data/graphs_v1/graphs_v1_5200000-5249999.pkl\n",
      "../data/graphs_v1/graphs_v1_5250000-5299999.pkl\n",
      "../data/graphs_v1/graphs_v1_5300000-5349999.pkl\n",
      "../data/graphs_v1/graphs_v1_5350000-5399999.pkl\n",
      "../data/graphs_v1/graphs_v1_5400000-5449999.pkl\n",
      "../data/graphs_v1/graphs_v1_5450000-5499999.pkl\n",
      "../data/graphs_v1/graphs_v1_5500000-5549999.pkl\n",
      "../data/graphs_v1/graphs_v1_5550000-5599999.pkl\n",
      "../data/graphs_v1/graphs_v1_5600000-5600751.pkl\n"
     ]
    }
   ],
   "source": [
    "# Load graph dataset 50000 matches at a time\n",
    "dir = '../data/graphs_v1/'\n",
    "count = 0\n",
    "total = len(df)\n",
    "step = 50000\n",
    "\n",
    "for i in range(0,int(np.ceil(total/step))):\n",
    "    start = i*step\n",
    "    end = start+step-1 if (start+step)<total else total-1\n",
    "    path = dir+f'graphs_v1_{start}-{end}.pkl'\n",
    "    print(path)\n",
    "    file = open(path,'rb')\n",
    "    if i==0:\n",
    "        graphs = pickle.load(file)\n",
    "    else:\n",
    "        graphs = graphs + pickle.load(file)"
   ]
  },
  {
   "cell_type": "markdown",
   "metadata": {},
   "source": [
    "### Filtering and scaling"
   ]
  },
  {
   "cell_type": "code",
   "execution_count": 4,
   "metadata": {},
   "outputs": [],
   "source": [
    "# Filter graph dataset\n",
    "filter_values = df_filter['filter'].values\n",
    "\n",
    "# DotaV1 data handling (two graphs for every match: 0-49999 radiant, 0-49999 dire, 50000-99999 radiant, etc.)\n",
    "step = 50000\n",
    "filter_values_V1 = []\n",
    "for i in range(0,int(np.ceil(len(filter_values)/step))):\n",
    "    start = i*step\n",
    "    end = start+step\n",
    "    # Add filters for match range twice\n",
    "    filter_values_V1 = np.append(filter_values_V1, filter_values[start:end])\n",
    "    filter_values_V1 = np.append(filter_values_V1, filter_values[start:end])\n",
    "\n",
    "# Get indices of True values in filters\n",
    "filter_idx = [i for i, x in enumerate(filter_values_V1) if x] # DotaV1\n",
    "# filter_idx = [i for i, x in enumerate(filter_values) if x] # DotaV2\n",
    "\n",
    "graphs_filt = graphs[filter_idx]"
   ]
  },
  {
   "cell_type": "code",
   "execution_count": 5,
   "metadata": {},
   "outputs": [
    {
     "data": {
      "text/html": [
       "<style>#sk-container-id-1 {color: black;background-color: white;}#sk-container-id-1 pre{padding: 0;}#sk-container-id-1 div.sk-toggleable {background-color: white;}#sk-container-id-1 label.sk-toggleable__label {cursor: pointer;display: block;width: 100%;margin-bottom: 0;padding: 0.3em;box-sizing: border-box;text-align: center;}#sk-container-id-1 label.sk-toggleable__label-arrow:before {content: \"▸\";float: left;margin-right: 0.25em;color: #696969;}#sk-container-id-1 label.sk-toggleable__label-arrow:hover:before {color: black;}#sk-container-id-1 div.sk-estimator:hover label.sk-toggleable__label-arrow:before {color: black;}#sk-container-id-1 div.sk-toggleable__content {max-height: 0;max-width: 0;overflow: hidden;text-align: left;background-color: #f0f8ff;}#sk-container-id-1 div.sk-toggleable__content pre {margin: 0.2em;color: black;border-radius: 0.25em;background-color: #f0f8ff;}#sk-container-id-1 input.sk-toggleable__control:checked~div.sk-toggleable__content {max-height: 200px;max-width: 100%;overflow: auto;}#sk-container-id-1 input.sk-toggleable__control:checked~label.sk-toggleable__label-arrow:before {content: \"▾\";}#sk-container-id-1 div.sk-estimator input.sk-toggleable__control:checked~label.sk-toggleable__label {background-color: #d4ebff;}#sk-container-id-1 div.sk-label input.sk-toggleable__control:checked~label.sk-toggleable__label {background-color: #d4ebff;}#sk-container-id-1 input.sk-hidden--visually {border: 0;clip: rect(1px 1px 1px 1px);clip: rect(1px, 1px, 1px, 1px);height: 1px;margin: -1px;overflow: hidden;padding: 0;position: absolute;width: 1px;}#sk-container-id-1 div.sk-estimator {font-family: monospace;background-color: #f0f8ff;border: 1px dotted black;border-radius: 0.25em;box-sizing: border-box;margin-bottom: 0.5em;}#sk-container-id-1 div.sk-estimator:hover {background-color: #d4ebff;}#sk-container-id-1 div.sk-parallel-item::after {content: \"\";width: 100%;border-bottom: 1px solid gray;flex-grow: 1;}#sk-container-id-1 div.sk-label:hover label.sk-toggleable__label {background-color: #d4ebff;}#sk-container-id-1 div.sk-serial::before {content: \"\";position: absolute;border-left: 1px solid gray;box-sizing: border-box;top: 0;bottom: 0;left: 50%;z-index: 0;}#sk-container-id-1 div.sk-serial {display: flex;flex-direction: column;align-items: center;background-color: white;padding-right: 0.2em;padding-left: 0.2em;position: relative;}#sk-container-id-1 div.sk-item {position: relative;z-index: 1;}#sk-container-id-1 div.sk-parallel {display: flex;align-items: stretch;justify-content: center;background-color: white;position: relative;}#sk-container-id-1 div.sk-item::before, #sk-container-id-1 div.sk-parallel-item::before {content: \"\";position: absolute;border-left: 1px solid gray;box-sizing: border-box;top: 0;bottom: 0;left: 50%;z-index: -1;}#sk-container-id-1 div.sk-parallel-item {display: flex;flex-direction: column;z-index: 1;position: relative;background-color: white;}#sk-container-id-1 div.sk-parallel-item:first-child::after {align-self: flex-end;width: 50%;}#sk-container-id-1 div.sk-parallel-item:last-child::after {align-self: flex-start;width: 50%;}#sk-container-id-1 div.sk-parallel-item:only-child::after {width: 0;}#sk-container-id-1 div.sk-dashed-wrapped {border: 1px dashed gray;margin: 0 0.4em 0.5em 0.4em;box-sizing: border-box;padding-bottom: 0.4em;background-color: white;}#sk-container-id-1 div.sk-label label {font-family: monospace;font-weight: bold;display: inline-block;line-height: 1.2em;}#sk-container-id-1 div.sk-label-container {text-align: center;}#sk-container-id-1 div.sk-container {/* jupyter's `normalize.less` sets `[hidden] { display: none; }` but bootstrap.min.css set `[hidden] { display: none !important; }` so we also need the `!important` here to be able to override the default hidden behavior on the sphinx rendered scikit-learn.org. See: https://github.com/scikit-learn/scikit-learn/issues/21755 */display: inline-block !important;position: relative;}#sk-container-id-1 div.sk-text-repr-fallback {display: none;}</style><div id=\"sk-container-id-1\" class=\"sk-top-container\"><div class=\"sk-text-repr-fallback\"><pre>MinMaxScaler()</pre><b>In a Jupyter environment, please rerun this cell to show the HTML representation or trust the notebook. <br />On GitHub, the HTML representation is unable to render, please try loading this page with nbviewer.org.</b></div><div class=\"sk-container\" hidden><div class=\"sk-item\"><div class=\"sk-estimator sk-toggleable\"><input class=\"sk-toggleable__control sk-hidden--visually\" id=\"sk-estimator-id-1\" type=\"checkbox\" checked><label for=\"sk-estimator-id-1\" class=\"sk-toggleable__label sk-toggleable__label-arrow\">MinMaxScaler</label><div class=\"sk-toggleable__content\"><pre>MinMaxScaler()</pre></div></div></div></div></div>"
      ],
      "text/plain": [
       "MinMaxScaler()"
      ]
     },
     "execution_count": 5,
     "metadata": {},
     "output_type": "execute_result"
    }
   ],
   "source": [
    "# MinMax Scaler model to normalise features from 0-1\n",
    "from sklearn.preprocessing import MinMaxScaler\n",
    "scaler = MinMaxScaler()\n",
    "scaler.fit(df_features.iloc[:,3:].to_numpy())"
   ]
  },
  {
   "cell_type": "code",
   "execution_count": 6,
   "metadata": {},
   "outputs": [
    {
     "name": "stdout",
     "output_type": "stream",
     "text": [
      "Scaling graph dataset feature matrices:\n",
      "0\n",
      "100000\n",
      "200000\n",
      "300000\n",
      "400000\n",
      "500000\n",
      "600000\n",
      "700000\n",
      "800000\n",
      "900000\n",
      "1000000\n",
      "1100000\n",
      "1200000\n",
      "1300000\n",
      "1400000\n",
      "1500000\n",
      "1600000\n",
      "1700000\n",
      "1800000\n",
      "1900000\n",
      "2000000\n",
      "2100000\n",
      "2200000\n",
      "2300000\n",
      "2400000\n",
      "2500000\n",
      "2600000\n",
      "2700000\n",
      "2800000\n",
      "2900000\n",
      "3000000\n",
      "3100000\n",
      "3200000\n",
      "3300000\n",
      "3400000\n",
      "3500000\n",
      "3600000\n",
      "3700000\n",
      "3800000\n",
      "3900000\n",
      "4000000\n",
      "4100000\n",
      "4200000\n",
      "4300000\n",
      "4400000\n",
      "4500000\n",
      "4600000\n",
      "4700000\n",
      "4800000\n",
      "4900000\n",
      "5000000\n",
      "5100000\n",
      "5200000\n",
      "5300000\n",
      "5400000\n",
      "5500000\n",
      "5600000\n",
      "5700000\n",
      "5800000\n",
      "5900000\n",
      "6000000\n",
      "6100000\n",
      "6200000\n",
      "6300000\n",
      "6400000\n",
      "6500000\n",
      "6600000\n",
      "6700000\n",
      "6800000\n",
      "6900000\n",
      "7000000\n",
      "7100000\n",
      "7200000\n",
      "7300000\n",
      "7400000\n",
      "7500000\n",
      "7600000\n",
      "7700000\n",
      "7800000\n",
      "7900000\n",
      "8000000\n",
      "8100000\n",
      "8200000\n",
      "8300000\n",
      "8400000\n",
      "8500000\n",
      "8600000\n",
      "8700000\n",
      "8800000\n",
      "8900000\n",
      "9000000\n",
      "9100000\n",
      "9200000\n",
      "9300000\n",
      "9400000\n",
      "9500000\n",
      "9600000\n",
      "9700000\n",
      "9800000\n",
      "9900000\n",
      "10000000\n",
      "10100000\n"
     ]
    }
   ],
   "source": [
    "# Loop through each graph and scale feature matrix and drop attack_backswing feature\n",
    "print('Scaling graph dataset feature matrices:')\n",
    "for i in range(0,len(graphs_filt)):\n",
    "    if(i%100000==0):\n",
    "        print(i)\n",
    "    graphs_filt[i].x = scaler.transform(graphs_filt[i].x) # scale feature matrix\n",
    "    graphs_filt[i].x = np.delete(graphs_filt[i].x, 14, 1) # remove attack_backswing as a feature"
   ]
  },
  {
   "cell_type": "markdown",
   "metadata": {},
   "source": [
    "### Model 1"
   ]
  },
  {
   "cell_type": "code",
   "execution_count": 11,
   "metadata": {},
   "outputs": [],
   "source": [
    "from spektral.data import BatchLoader\n",
    "from spektral.layers import GCSConv, GCNConv\n",
    "from tensorflow.keras.layers import Dense, Flatten\n",
    "from tensorflow.keras.losses import BinaryCrossentropy\n",
    "from tensorflow.keras.metrics import binary_accuracy\n",
    "from tensorflow.keras.models import Model\n",
    "from tensorflow.keras.optimizers import Adam, SGD\n",
    "import random"
   ]
  },
  {
   "cell_type": "code",
   "execution_count": 30,
   "metadata": {},
   "outputs": [],
   "source": [
    "# Train/valid/test split\n",
    "d = graphs_filt #[0:100000] # Graph data\n",
    "\n",
    "np.random.seed(10)\n",
    "idxs = np.random.permutation(len(d))\n",
    "split_va, split_te = int(0.64 * len(d)), int(0.8 * len(d)) #64% training, 16% validation, 20% test\n",
    "idx_tr, idx_va, idx_te = np.split(idxs, [split_va, split_te])\n",
    "data_tr = d[idx_tr]\n",
    "data_va = d[idx_va]\n",
    "data_te = d[idx_te]"
   ]
  },
  {
   "cell_type": "code",
   "execution_count": 31,
   "metadata": {},
   "outputs": [
    {
     "name": "stdout",
     "output_type": "stream",
     "text": [
      "Epoch 1/5\n",
      "25391/25391 [==============================] - 161s 6ms/step - loss: 0.6922 - binary_accuracy: 0.5183 - val_loss: 0.6916 - val_binary_accuracy: 0.5230\n",
      "Epoch 2/5\n",
      "25391/25391 [==============================] - 150s 6ms/step - loss: 0.6914 - binary_accuracy: 0.5233 - val_loss: 0.6915 - val_binary_accuracy: 0.5233\n",
      "Epoch 3/5\n",
      "25391/25391 [==============================] - 149s 6ms/step - loss: 0.6913 - binary_accuracy: 0.5244 - val_loss: 0.6914 - val_binary_accuracy: 0.5243\n",
      "Epoch 4/5\n",
      "25391/25391 [==============================] - 166s 7ms/step - loss: 0.6912 - binary_accuracy: 0.5249 - val_loss: 0.6919 - val_binary_accuracy: 0.5213\n",
      "Epoch 5/5\n",
      "25391/25391 [==============================] - 153s 6ms/step - loss: 0.6912 - binary_accuracy: 0.5252 - val_loss: 0.6912 - val_binary_accuracy: 0.5252\n"
     ]
    }
   ],
   "source": [
    "# Configuration\n",
    "learning_rate = 0.001  # Learning rate\n",
    "epochs = 5  # Number of training epochs\n",
    "es_patience = 10  # Patience for early stopping\n",
    "batch_size = 256  # Batch size\n",
    "\n",
    "# Data loaders\n",
    "loader_tr = BatchLoader(data_tr, batch_size=batch_size, epochs=epochs)\n",
    "loader_va = BatchLoader(data_va, batch_size=batch_size)\n",
    "loader_te = BatchLoader(data_te, batch_size=batch_size)\n",
    "\n",
    "# Build model\n",
    "class Net(Model):\n",
    "    def __init__(self):\n",
    "        super().__init__()\n",
    "        self.conv1 = GCNConv(19, activation='relu')\n",
    "        self.flatten = Flatten()\n",
    "        self.dense = Dense(d.n_labels, activation=\"sigmoid\")\n",
    "\n",
    "    def call(self, inputs):\n",
    "        x, a = inputs\n",
    "        # x.shape is [n_batches, 5, n_ features]\n",
    "        # a.shape is [n_batches, 5, 5]\n",
    "        # print(type(x))\n",
    "        # print(x.shape)\n",
    "\n",
    "        x = self.conv1([x, a])\n",
    "        # x.shape is [n_batches, 5, channels] where I have set channels = features (20)\n",
    "        # print(x.shape)\n",
    "\n",
    "        x =self.flatten(x)\n",
    "        # x.shape is [n_batches, 5*channels]\n",
    "        # print(x.shape)\n",
    "\n",
    "        x = self.dense(x)\n",
    "        # output.shape is [n_batches, 1]\n",
    "        # print(x.shape)\n",
    "        \n",
    "        return x\n",
    "\n",
    "model = Net()\n",
    "optimizer = Adam(learning_rate=learning_rate)\n",
    "loss_fn = BinaryCrossentropy()\n",
    "model.compile(optimizer=optimizer, loss=loss_fn, metrics=['binary_accuracy'])\n",
    "\n",
    "fit_log = model.fit(loader_tr.load(), steps_per_epoch=loader_tr.steps_per_epoch, epochs=epochs, validation_data=loader_va.load(), validation_steps=loader_va.steps_per_epoch)"
   ]
  },
  {
   "cell_type": "code",
   "execution_count": 15,
   "metadata": {},
   "outputs": [
    {
     "data": {
      "text/plain": [
       "array([3, 1, 2, 0, 5, 4])"
      ]
     },
     "execution_count": 15,
     "metadata": {},
     "output_type": "execute_result"
    }
   ],
   "source": [
    "idxs = np.random.permutation(6)\n",
    "idxs"
   ]
  },
  {
   "cell_type": "code",
   "execution_count": 21,
   "metadata": {},
   "outputs": [
    {
     "data": {
      "image/png": "[encoded data removed]",
      "text/plain": [
       "<Figure size 432x288 with 1 Axes>"
      ]
     },
     "metadata": {
      "needs_background": "light"
     },
     "output_type": "display_data"
    }
   ],
   "source": [
    "from matplotlib import pyplot as plt\n",
    "plt.plot(fit_log.history['binary_accuracy'])\n",
    "plt.title('model accuracy')\n",
    "plt.ylabel('accuracy')\n",
    "plt.xlabel('epoch')\n",
    "plt.legend(['train', 'val'], loc='upper left')\n",
    "plt.show()"
   ]
  },
  {
   "cell_type": "code",
   "execution_count": 117,
   "metadata": {},
   "outputs": [
    {
     "name": "stdout",
     "output_type": "stream",
     "text": [
      "32/32 [==============================] - 0s 1ms/step - loss: nan - binary_accuracy: 0.5090\n",
      "Test accuracy: 50.9%\n"
     ]
    },
    {
     "name": "stderr",
     "output_type": "stream",
     "text": [
      "c:\\Users\\nick_\\.virtualenvs\\dotaprediction-eZ2WDOkz\\lib\\site-packages\\spektral\\data\\utils.py:221: UserWarning: you are shuffling a 'DotaV1' object which is not a subclass of 'Sequence'; `shuffle` is not guaranteed to behave correctly. E.g., non-numpy array/tensor objects with view semantics may contain duplicates after shuffling.\n",
      "  np.random.shuffle(a)\n"
     ]
    }
   ],
   "source": [
    "loss = model.evaluate(loader_te.load(), steps=loader_te.steps_per_epoch)\n",
    "print(f\"Test accuracy: {np.round(loss[1],4)*100}%\")"
   ]
  },
  {
   "cell_type": "code",
   "execution_count": 141,
   "metadata": {},
   "outputs": [
    {
     "name": "stdout",
     "output_type": "stream",
     "text": [
      "50/50 [==============================] - 0s 1ms/step - loss: nan - binary_accuracy: 0.5800\n",
      "Test accuracy: 57.99999999999999%\n"
     ]
    },
    {
     "name": "stderr",
     "output_type": "stream",
     "text": [
      "c:\\Users\\nick_\\.virtualenvs\\dotaprediction-eZ2WDOkz\\lib\\site-packages\\spektral\\data\\utils.py:221: UserWarning: you are shuffling a 'DotaV1' object which is not a subclass of 'Sequence'; `shuffle` is not guaranteed to behave correctly. E.g., non-numpy array/tensor objects with view semantics may contain duplicates after shuffling.\n",
      "  np.random.shuffle(a)\n"
     ]
    }
   ],
   "source": [
    "loader_single = BatchLoader(data_va, batch_size=128)\n",
    "loss = model.evaluate(loader_single.load(), steps=loader_single.steps_per_epoch)\n",
    "print(f\"Validation accuracy: {np.round(loss[1],4)*100}%\")"
   ]
  }
 ],
 "metadata": {
  "kernelspec": {
   "display_name": "Python 3.10.4 ('dotaprediction-eZ2WDOkz')",
   "language": "python",
   "name": "python3"
  },
  "language_info": {
   "codemirror_mode": {
    "name": "ipython",
    "version": 3
   },
   "file_extension": ".py",
   "mimetype": "text/x-python",
   "name": "python",
   "nbconvert_exporter": "python",
   "pygments_lexer": "ipython3",
   "version": "3.10.4"
  },
  "orig_nbformat": 4,
  "vscode": {
   "interpreter": {
    "hash": "ebde562489c4e4788da5bb29c9d71313b7139998376f0f1594e5d84eb8d638a0"
   }
  }
 },
 "nbformat": 4,
 "nbformat_minor": 2
}
