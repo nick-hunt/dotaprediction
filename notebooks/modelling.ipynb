{
 "cells": [
  {
   "cell_type": "code",
   "execution_count": 1,
   "metadata": {},
   "outputs": [],
   "source": [
    "import pandas as pd\n",
    "import numpy as np\n",
    "from spektral.data import Dataset, Graph\n",
    "import pickle\n",
    "import os"
   ]
  },
  {
   "cell_type": "code",
   "execution_count": 2,
   "metadata": {},
   "outputs": [],
   "source": [
    "# Load combined data\n",
    "df_raw = pd.read_csv('../data/combined.csv')\n",
    "df = df_raw.copy()\n",
    "\n",
    "# Load hero feature data\n",
    "df_features = pd.read_csv('../data/features.csv')\n",
    "df_features = df_features.set_index('hero_id')"
   ]
  },
  {
   "cell_type": "code",
   "execution_count": 22,
   "metadata": {},
   "outputs": [],
   "source": [
    "class DotaDataset(Dataset):\n",
    "    def __init__(self, df_combined: pd.DataFrame, features: pd.DataFrame,  **kwargs):\n",
    "        '''Generates a list of Graph objects\n",
    "        df_combined: match result (radiant_win), hero picks (hero0_pick ...), hero slots (hero0_slot...) [dataframe]\n",
    "        features: all hero ids (hero_id), desired features (feature1,2,3,etc., name not important) [dataframe]\n",
    "        '''\n",
    "        graphs_radiant = [self.get_graph(index, match, features, 'radiant') for index, match in df_combined.iterrows()]\n",
    "        graphs_dire = [self.get_graph(index, match, features, 'dire') for index, match in df_combined.iterrows()]\n",
    "        self.graphs = graphs_radiant + graphs_dire\n",
    "        # self.graphs = graphs_radiant\n",
    "        super().__init__(**kwargs)\n",
    "        \n",
    "    def get_graph(self, index, match, features, team):\n",
    "        '''Generates a single graph based on a single match'''\n",
    "        # Status\n",
    "        if (index+1)%1000==0:\n",
    "            print(f'Graph {team} {index+1}')\n",
    "\n",
    "        # Extract hero ids and match result, depending on radiant or dire perspective\n",
    "        # Reduce match df to columns: hero0_slot, ..., hero9_slot\n",
    "        slots = match[[f'hero{i}_slot' for i in range(0,10)]]\n",
    "\n",
    "        # Based on team: select slots filter , assign match result\n",
    "        if team=='radiant':\n",
    "            slots = slots[slots<5] # radiant slots 0,1,2,3,4\n",
    "            #heroes = match[['hero0','hero1','hero2','hero3','hero4']].values\n",
    "            y = float(match['radiant_win'])\n",
    "        elif team=='dire':\n",
    "            slots = slots[slots>127] # dire slots 128,129,130,131,132\n",
    "            #heroes = match[['hero5','hero6','hero7','hero8','hero9']].values\n",
    "            y = 1-float(match['radiant_win'])\n",
    "        else:\n",
    "            raise ValueError('Incorrect team specified in \"get_graph\" matchod. Use \"radiant\" or \"dire\"')\n",
    "\n",
    "        # Pick columns based on team slots determined above\n",
    "        pick_columns = [f'{herox[:5]}_pick' for herox in slots.index]\n",
    "        heroes = match[pick_columns].values\n",
    "        heroes = [hero for hero in heroes if hero!=0] # remove hero id 0 (these are invalid)\n",
    "        \n",
    "        # Create feature matrix\n",
    "        x = features.loc[heroes].iloc[:,3:]\n",
    "        x = x.to_numpy(dtype='float')\n",
    "        \n",
    "        # Adjacency matrix\n",
    "        a = np.ones([5,5], dtype='float32')\n",
    "\n",
    "        g = Graph(x=x, a=a, y=y)\n",
    "        return g\n",
    "        \n",
    "    def read(self):\n",
    "        return self.graphs"
   ]
  },
  {
   "cell_type": "code",
   "execution_count": 28,
   "metadata": {},
   "outputs": [
    {
     "name": "stdout",
     "output_type": "stream",
     "text": [
      "../data/graphs_v1/graphs_v1_0-49999.pkl\n",
      "../data/graphs_v1/graphs_v1_50000-99999.pkl\n",
      "../data/graphs_v1/graphs_v1_100000-149999.pkl\n",
      "../data/graphs_v1/graphs_v1_150000-199999.pkl\n",
      "../data/graphs_v1/graphs_v1_200000-249999.pkl\n",
      "../data/graphs_v1/graphs_v1_250000-299999.pkl\n",
      "../data/graphs_v1/graphs_v1_300000-349999.pkl\n",
      "../data/graphs_v1/graphs_v1_350000-399999.pkl\n",
      "../data/graphs_v1/graphs_v1_400000-449999.pkl\n",
      "../data/graphs_v1/graphs_v1_450000-499999.pkl\n",
      "../data/graphs_v1/graphs_v1_500000-549999.pkl\n",
      "../data/graphs_v1/graphs_v1_550000-599999.pkl\n",
      "../data/graphs_v1/graphs_v1_600000-649999.pkl\n",
      "../data/graphs_v1/graphs_v1_650000-699999.pkl\n",
      "../data/graphs_v1/graphs_v1_700000-749999.pkl\n",
      "../data/graphs_v1/graphs_v1_750000-799999.pkl\n",
      "../data/graphs_v1/graphs_v1_800000-849999.pkl\n",
      "../data/graphs_v1/graphs_v1_850000-899999.pkl\n",
      "../data/graphs_v1/graphs_v1_900000-949999.pkl\n",
      "../data/graphs_v1/graphs_v1_950000-999999.pkl\n",
      "../data/graphs_v1/graphs_v1_1000000-1049999.pkl\n",
      "../data/graphs_v1/graphs_v1_1050000-1099999.pkl\n",
      "../data/graphs_v1/graphs_v1_1100000-1149999.pkl\n",
      "../data/graphs_v1/graphs_v1_1150000-1199999.pkl\n",
      "../data/graphs_v1/graphs_v1_1200000-1249999.pkl\n",
      "../data/graphs_v1/graphs_v1_1250000-1299999.pkl\n",
      "../data/graphs_v1/graphs_v1_1300000-1349999.pkl\n",
      "../data/graphs_v1/graphs_v1_1350000-1399999.pkl\n",
      "../data/graphs_v1/graphs_v1_1400000-1449999.pkl\n",
      "../data/graphs_v1/graphs_v1_1450000-1499999.pkl\n",
      "../data/graphs_v1/graphs_v1_1500000-1549999.pkl\n",
      "../data/graphs_v1/graphs_v1_1550000-1599999.pkl\n",
      "../data/graphs_v1/graphs_v1_1600000-1649999.pkl\n",
      "../data/graphs_v1/graphs_v1_1650000-1699999.pkl\n",
      "../data/graphs_v1/graphs_v1_1700000-1749999.pkl\n",
      "../data/graphs_v1/graphs_v1_1750000-1799999.pkl\n",
      "../data/graphs_v1/graphs_v1_1800000-1849999.pkl\n",
      "../data/graphs_v1/graphs_v1_1850000-1899999.pkl\n",
      "../data/graphs_v1/graphs_v1_1900000-1949999.pkl\n",
      "../data/graphs_v1/graphs_v1_1950000-1999999.pkl\n",
      "../data/graphs_v1/graphs_v1_2000000-2049999.pkl\n",
      "../data/graphs_v1/graphs_v1_2050000-2099999.pkl\n",
      "../data/graphs_v1/graphs_v1_2100000-2149999.pkl\n",
      "../data/graphs_v1/graphs_v1_2150000-2199999.pkl\n",
      "../data/graphs_v1/graphs_v1_2200000-2249999.pkl\n",
      "../data/graphs_v1/graphs_v1_2250000-2299999.pkl\n",
      "../data/graphs_v1/graphs_v1_2300000-2349999.pkl\n",
      "../data/graphs_v1/graphs_v1_2350000-2399999.pkl\n",
      "../data/graphs_v1/graphs_v1_2400000-2449999.pkl\n",
      "../data/graphs_v1/graphs_v1_2450000-2499999.pkl\n",
      "../data/graphs_v1/graphs_v1_2500000-2549999.pkl\n",
      "../data/graphs_v1/graphs_v1_2550000-2599999.pkl\n",
      "../data/graphs_v1/graphs_v1_2600000-2649999.pkl\n",
      "../data/graphs_v1/graphs_v1_2650000-2699999.pkl\n",
      "../data/graphs_v1/graphs_v1_2700000-2749999.pkl\n",
      "../data/graphs_v1/graphs_v1_2750000-2799999.pkl\n",
      "../data/graphs_v1/graphs_v1_2800000-2849999.pkl\n",
      "../data/graphs_v1/graphs_v1_2850000-2899999.pkl\n",
      "../data/graphs_v1/graphs_v1_2900000-2949999.pkl\n",
      "../data/graphs_v1/graphs_v1_2950000-2999999.pkl\n",
      "../data/graphs_v1/graphs_v1_3000000-3049999.pkl\n",
      "../data/graphs_v1/graphs_v1_3050000-3099999.pkl\n",
      "../data/graphs_v1/graphs_v1_3100000-3149999.pkl\n",
      "../data/graphs_v1/graphs_v1_3150000-3199999.pkl\n",
      "../data/graphs_v1/graphs_v1_3200000-3249999.pkl\n",
      "../data/graphs_v1/graphs_v1_3250000-3299999.pkl\n",
      "../data/graphs_v1/graphs_v1_3300000-3349999.pkl\n",
      "../data/graphs_v1/graphs_v1_3350000-3399999.pkl\n",
      "../data/graphs_v1/graphs_v1_3400000-3449999.pkl\n",
      "../data/graphs_v1/graphs_v1_3450000-3499999.pkl\n",
      "../data/graphs_v1/graphs_v1_3500000-3549999.pkl\n",
      "../data/graphs_v1/graphs_v1_3550000-3599999.pkl\n",
      "../data/graphs_v1/graphs_v1_3600000-3649999.pkl\n",
      "../data/graphs_v1/graphs_v1_3650000-3699999.pkl\n",
      "../data/graphs_v1/graphs_v1_3700000-3749999.pkl\n",
      "../data/graphs_v1/graphs_v1_3750000-3799999.pkl\n",
      "../data/graphs_v1/graphs_v1_3800000-3849999.pkl\n",
      "../data/graphs_v1/graphs_v1_3850000-3899999.pkl\n",
      "../data/graphs_v1/graphs_v1_3900000-3949999.pkl\n",
      "../data/graphs_v1/graphs_v1_3950000-3999999.pkl\n",
      "../data/graphs_v1/graphs_v1_4000000-4049999.pkl\n",
      "../data/graphs_v1/graphs_v1_4050000-4099999.pkl\n",
      "../data/graphs_v1/graphs_v1_4100000-4149999.pkl\n",
      "../data/graphs_v1/graphs_v1_4150000-4199999.pkl\n",
      "../data/graphs_v1/graphs_v1_4200000-4249999.pkl\n",
      "../data/graphs_v1/graphs_v1_4250000-4299999.pkl\n",
      "../data/graphs_v1/graphs_v1_4300000-4349999.pkl\n",
      "../data/graphs_v1/graphs_v1_4350000-4399999.pkl\n",
      "../data/graphs_v1/graphs_v1_4400000-4449999.pkl\n",
      "../data/graphs_v1/graphs_v1_4450000-4499999.pkl\n",
      "../data/graphs_v1/graphs_v1_4500000-4549999.pkl\n",
      "../data/graphs_v1/graphs_v1_4550000-4599999.pkl\n",
      "../data/graphs_v1/graphs_v1_4600000-4649999.pkl\n",
      "../data/graphs_v1/graphs_v1_4650000-4699999.pkl\n",
      "../data/graphs_v1/graphs_v1_4700000-4749999.pkl\n",
      "../data/graphs_v1/graphs_v1_4750000-4799999.pkl\n",
      "../data/graphs_v1/graphs_v1_4800000-4849999.pkl\n",
      "../data/graphs_v1/graphs_v1_4850000-4899999.pkl\n",
      "../data/graphs_v1/graphs_v1_4900000-4949999.pkl\n",
      "../data/graphs_v1/graphs_v1_4950000-4999999.pkl\n",
      "../data/graphs_v1/graphs_v1_5000000-5049999.pkl\n",
      "../data/graphs_v1/graphs_v1_5050000-5099999.pkl\n",
      "../data/graphs_v1/graphs_v1_5100000-5149999.pkl\n",
      "../data/graphs_v1/graphs_v1_5150000-5199999.pkl\n",
      "../data/graphs_v1/graphs_v1_5200000-5249999.pkl\n",
      "../data/graphs_v1/graphs_v1_5250000-5299999.pkl\n",
      "../data/graphs_v1/graphs_v1_5300000-5349999.pkl\n",
      "../data/graphs_v1/graphs_v1_5350000-5399999.pkl\n",
      "../data/graphs_v1/graphs_v1_5400000-5449999.pkl\n",
      "../data/graphs_v1/graphs_v1_5450000-5499999.pkl\n",
      "../data/graphs_v1/graphs_v1_5500000-5549999.pkl\n",
      "../data/graphs_v1/graphs_v1_5550000-5599999.pkl\n",
      "../data/graphs_v1/graphs_v1_5600000-5600751.pkl\n"
     ]
    }
   ],
   "source": [
    "# Load graph dataset 50000 matches at a time\n",
    "dir = '../data/graphs_v1/'\n",
    "count = 0\n",
    "total = len(df)\n",
    "step = 50000\n",
    "\n",
    "for i in range(0,int(np.ceil(total/step))):\n",
    "    start = i*step\n",
    "    end = start+step-1 if (start+step)<total else total-1\n",
    "    path = dir+f'graphs_v1_{start}-{end}.pkl'\n",
    "    print(path)\n",
    "    file = open(path,'rb')\n",
    "    if i==0:\n",
    "        graphs = pickle.load(file)\n",
    "    else:\n",
    "        graphs = graphs + pickle.load(file)\n",
    "    # if i>0:\n",
    "    #     break\n",
    "# for filename in os.listdir('../data/graphs_v1/'):\n",
    "#     print(filename)\n",
    "#     # f = os.path.join(directory, filename)\n",
    "    # # checking if it is a file\n",
    "    # if os.path.isfile(f):\n",
    "    #     print(f)"
   ]
  },
  {
   "cell_type": "code",
   "execution_count": 30,
   "metadata": {},
   "outputs": [
    {
     "data": {
      "text/plain": [
       "5600752.0"
      ]
     },
     "execution_count": 30,
     "metadata": {},
     "output_type": "execute_result"
    }
   ],
   "source": [
    "len(graphs)/2"
   ]
  },
  {
   "cell_type": "code",
   "execution_count": 36,
   "metadata": {},
   "outputs": [
    {
     "data": {
      "text/plain": [
       "24"
      ]
     },
     "execution_count": 36,
     "metadata": {},
     "output_type": "execute_result"
    }
   ],
   "source": [
    "sys.getsizeof(graphs[0].y)"
   ]
  }
 ],
 "metadata": {
  "kernelspec": {
   "display_name": "Python 3.10.4 ('dotaprediction-eZ2WDOkz')",
   "language": "python",
   "name": "python3"
  },
  "language_info": {
   "codemirror_mode": {
    "name": "ipython",
    "version": 3
   },
   "file_extension": ".py",
   "mimetype": "text/x-python",
   "name": "python",
   "nbconvert_exporter": "python",
   "pygments_lexer": "ipython3",
   "version": "3.10.4"
  },
  "orig_nbformat": 4,
  "vscode": {
   "interpreter": {
    "hash": "ebde562489c4e4788da5bb29c9d71313b7139998376f0f1594e5d84eb8d638a0"
   }
  }
 },
 "nbformat": 4,
 "nbformat_minor": 2
}
